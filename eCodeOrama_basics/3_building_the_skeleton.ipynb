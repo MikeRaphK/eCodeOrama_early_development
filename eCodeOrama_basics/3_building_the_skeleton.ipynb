{
 "cells": [
  {
   "cell_type": "markdown",
   "metadata": {},
   "source": [
    "# Building the skeleton of codeOrama from a .sb3 file using Python\n",
    "Alright. We now know the following:\n",
    "* How to convert an `.sb3` file to a `.json` file\n",
    "* How to parse and show its contents\n",
    "* How to modify a `.json` file\n",
    "* How to save the changes and create a a new `.sb3` file with the applied changes.\n",
    "\n",
    "Now that we know the basics, let's focus on how we can utilize the JSON file for codeOrama and eCodeOrama. In codeOrama, each solumn represents a sprite and each row represents an event. Each cell contains scripts of the corresponding sprite that are called on the corresponding event. I think a good stepping stone would be to write a little script that builds the **skeleton** of codeOrama, namely the top row of sprites and first column of events.\n",
    "\n",
    "For this notebook, I'm going to be using the `events.sb3` file, which contains a Green Flag event, a Broadcast event and a KeyPress event."
   ]
  },
  {
   "cell_type": "markdown",
   "metadata": {},
   "source": [
    "## Converting to JSON\n",
    "This is a standard process that we have already seen a couple of times(converting to zip and unzipping)."
   ]
  },
  {
   "cell_type": "code",
   "execution_count": 1,
   "metadata": {},
   "outputs": [
    {
     "name": "stdout",
     "output_type": "stream",
     "text": [
      "Archive:  ./events.zip\n",
      "  inflating: ./events/project.json   \n",
      "  inflating: ./events/83a9787d4cb6f3b7632b4ddfebf74367.wav  \n",
      "  inflating: ./events/83c36d806dc92327b9e7049a565c6bff.wav  \n",
      "  inflating: ./events/b15adefc3c12f758b6dc6a045362532f.wav  \n",
      "  inflating: ./events/511430b7fa3da45b6ecd429d9005816d.svg  \n",
      "  inflating: ./events/bcf454acf82e4504149f7ffe07081dbc.svg  \n",
      "  inflating: ./events/0fb9be3e8397c983338cb71dc84d0b25.svg  \n",
      "  inflating: ./events/35cd78a8a71546a16c530d0b2d7d5a7f.svg  \n",
      "  inflating: ./events/d5a72e1eb23a91df4b53c0b16493d1e6.svg  \n"
     ]
    }
   ],
   "source": [
    "!rm -rf ./events/\n",
    "!cp ../sb3_files/events.sb3 ./events.zip\n",
    "!unzip ./events.zip -d ./events/\n",
    "!rm -rf ./events.zip"
   ]
  },
  {
   "cell_type": "markdown",
   "metadata": {},
   "source": [
    "## Isolating sprites\n",
    "The first thing that we need to do is isolate the sprites/objects. The following script prints the number of sprites found inside of a JSON file as well as their names."
   ]
  },
  {
   "cell_type": "code",
   "execution_count": 2,
   "metadata": {},
   "outputs": [
    {
     "name": "stdout",
     "output_type": "stream",
     "text": [
      "This Scratch project consists of 3 objects. Their names are: \n",
      "Stage\n",
      "Cat\n",
      "Dog1\n"
     ]
    }
   ],
   "source": [
    "import json\n",
    "\n",
    "# Load the JSON file\n",
    "project_json = None\n",
    "with open('./events/project.json', 'r', encoding='utf-8') as f:\n",
    "    project_json = json.load(f)\n",
    "\n",
    "# Get objects\n",
    "object_list = project_json[\"targets\"]\n",
    "\n",
    "# Get object info\n",
    "object_count = len(object_list)\n",
    "object_names = []\n",
    "for object in object_list:\n",
    "    object_names.append(object[\"name\"])\n",
    "    \n",
    "print(f\"This Scratch project consists of {object_count} objects. Their names are: \")\n",
    "for name in object_names:\n",
    "    print(f\"{name}\")"
   ]
  },
  {
   "cell_type": "markdown",
   "metadata": {},
   "source": [
    "## Isolating events\n",
    "Secondly, we want to get all the events of the project. In order to do that, we will iterate over all blocks and save those that have no parent blocks. In the future, we are probably going to need more information than an event's Opcode, but since we only worry about the skeleton of codeOrama, let's keep it simple for now."
   ]
  },
  {
   "cell_type": "code",
   "execution_count": 3,
   "metadata": {},
   "outputs": [
    {
     "name": "stdout",
     "output_type": "stream",
     "text": [
      "This Scratch project consists of 7 events. Their names are: \n",
      "event_whenflagclicked\n",
      "event_whenbroadcastreceived\n",
      "event_whenkeypressed\n",
      "event_whenthisspriteclicked\n",
      "event_whenbackdropswitchesto\n",
      "event_whengreaterthan\n",
      "event_whengreaterthan\n"
     ]
    }
   ],
   "source": [
    "import json\n",
    "\n",
    "# Load the JSON file\n",
    "project_json = None\n",
    "with open('./events/project.json', 'r', encoding='utf-8') as f:\n",
    "    project_json = json.load(f)\n",
    "\n",
    "# Get objects\n",
    "object_list = project_json[\"targets\"]\n",
    "\n",
    "# Event info\n",
    "event_count = 0\n",
    "event_names = []\n",
    "\n",
    "# Check all blocks of all objects\n",
    "for object in object_list:\n",
    "    blocks = object[\"blocks\"]\n",
    "\n",
    "    # Only keep blocks that have no parent block\n",
    "    for block_id, block_data in blocks.items():\n",
    "        if block_data[\"parent\"] == None:\n",
    "            event_count += 1\n",
    "            event_names.append(block_data[\"opcode\"])\n",
    "\n",
    "print(f\"This Scratch project consists of {event_count} events. Their names are: \")\n",
    "for name in event_names:\n",
    "    print(f\"{name}\")"
   ]
  },
  {
   "cell_type": "markdown",
   "metadata": {},
   "source": [
    "## Building the skeleton\n",
    "Now that we have access to both the objects and the events, we can implement a final script that builds the skeleton of codeOrama by essentially placing objects on the first row and events on the first column. Python offers a variety of libraries that help build Excel sheets. I'm going to be using `pandas`. Before implementing the script, we need to install the module as well as some dependencies locally."
   ]
  },
  {
   "cell_type": "code",
   "execution_count": 4,
   "metadata": {},
   "outputs": [
    {
     "name": "stdout",
     "output_type": "stream",
     "text": [
      "Defaulting to user installation because normal site-packages is not writeable\n",
      "Requirement already satisfied: pandas in /home/mike/.local/lib/python3.12/site-packages (2.2.3)\n",
      "Requirement already satisfied: numpy>=1.26.0 in /home/mike/.local/lib/python3.12/site-packages (from pandas) (2.2.4)\n",
      "Requirement already satisfied: python-dateutil>=2.8.2 in /home/mike/.local/lib/python3.12/site-packages (from pandas) (2.9.0.post0)\n",
      "Requirement already satisfied: pytz>=2020.1 in /usr/lib/python3/dist-packages (from pandas) (2024.1)\n",
      "Requirement already satisfied: tzdata>=2022.7 in /home/mike/.local/lib/python3.12/site-packages (from pandas) (2025.1)\n",
      "Requirement already satisfied: six>=1.5 in /home/mike/.local/lib/python3.12/site-packages (from python-dateutil>=2.8.2->pandas) (1.17.0)\n",
      "Note: you may need to restart the kernel to use updated packages.\n",
      "Defaulting to user installation because normal site-packages is not writeable\n",
      "Requirement already satisfied: openpyxl in /home/mike/.local/lib/python3.12/site-packages (3.1.5)\n",
      "Requirement already satisfied: et-xmlfile in /home/mike/.local/lib/python3.12/site-packages (from openpyxl) (2.0.0)\n",
      "Note: you may need to restart the kernel to use updated packages.\n"
     ]
    }
   ],
   "source": [
    "%pip install pandas\n",
    "%pip install openpyxl"
   ]
  },
  {
   "cell_type": "code",
   "execution_count": 5,
   "metadata": {},
   "outputs": [
    {
     "name": "stdout",
     "output_type": "stream",
     "text": [
      "This Scratch project consists of 3 objects. Their names are: \n",
      "Stage\n",
      "Cat\n",
      "Dog1\n",
      "\n",
      "This Scratch project consists of 7 events. Their names are: \n",
      "event_whenflagclicked\n",
      "event_whenbroadcastreceived\n",
      "event_whenkeypressed\n",
      "event_whenthisspriteclicked\n",
      "event_whenbackdropswitchesto\n",
      "event_whengreaterthan\n",
      "event_whengreaterthan\n",
      "\n",
      "Building skeleton...\n",
      "Skeleton saved to ./codeOrama_skeleton.xlsx successfully!\n"
     ]
    }
   ],
   "source": [
    "import json             # JSON parsing\n",
    "import pandas as pd     # Building the Excel sheet\n",
    "\n",
    "# Load the JSON file\n",
    "project_json = None\n",
    "with open('./events/project.json', 'r', encoding='utf-8') as f:\n",
    "    project_json = json.load(f)\n",
    "\n",
    "# Get objects\n",
    "object_list = project_json[\"targets\"]\n",
    "\n",
    "# Object info\n",
    "object_count = len(object_list)\n",
    "object_names = []\n",
    "\n",
    "# Event info\n",
    "event_count = 0\n",
    "event_names = []\n",
    "\n",
    "# Get object and event info\n",
    "for object in object_list:\n",
    "    # Keep object names\n",
    "    object_names.append(object[\"name\"])\n",
    "\n",
    "    # Keep blocks that have no parent block\n",
    "    blocks = object[\"blocks\"]\n",
    "    for block_id, block_data in blocks.items():\n",
    "        if block_data[\"parent\"] == None:\n",
    "            event_count += 1\n",
    "            event_names.append(block_data[\"opcode\"])\n",
    "    \n",
    "# Why not print some statistics\n",
    "print(f\"This Scratch project consists of {object_count} objects. Their names are: \")\n",
    "for name in object_names:\n",
    "    print(f\"{name}\")\n",
    "print()\n",
    "print(f\"This Scratch project consists of {event_count} events. Their names are: \")\n",
    "for name in event_names:\n",
    "    print(f\"{name}\")\n",
    "print()\n",
    "\n",
    "# Build the Excel sheet\n",
    "print(\"Building skeleton...\")\n",
    "excel_name = \"./codeOrama_skeleton.xlsx\"\n",
    "df = pd.DataFrame(index=event_names, columns=object_names)\n",
    "df.to_excel(excel_name, index=True)\n",
    "print(f\"Skeleton saved to {excel_name} successfully!\")"
   ]
  }
 ],
 "metadata": {
  "kernelspec": {
   "display_name": "Python 3",
   "language": "python",
   "name": "python3"
  },
  "language_info": {
   "codemirror_mode": {
    "name": "ipython",
    "version": 3
   },
   "file_extension": ".py",
   "mimetype": "text/x-python",
   "name": "python",
   "nbconvert_exporter": "python",
   "pygments_lexer": "ipython3",
   "version": "3.12.3"
  }
 },
 "nbformat": 4,
 "nbformat_minor": 2
}
