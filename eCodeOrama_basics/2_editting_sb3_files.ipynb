{
 "cells": [
  {
   "cell_type": "markdown",
   "metadata": {},
   "source": [
    "# Editting .sb3 files using Python\n",
    "Now that we know the basics of how .sb3 files are implemented behind the scenes, we can easily edit them by making changes to the `project.json` file. Let us again take the `hello_world.sb3` file as an example, and modify it so it says `World Hello!` for `5 seconds` instead!\n",
    "\n",
    "The first step is to again convert the `.sb3` file to a `.zip` file and then extract it so that we have acess to its `.json` file. To keep things tidy, I'm going to extract its contents to a new directory called `world_hello` instead."
   ]
  },
  {
   "cell_type": "code",
   "execution_count": null,
   "metadata": {},
   "outputs": [
    {
     "name": "stdout",
     "output_type": "stream",
     "text": [
      "Archive:  ./world_hello.zip\n",
      "  inflating: ./world_hello/project.json  \n",
      "  inflating: ./world_hello/83a9787d4cb6f3b7632b4ddfebf74367.wav  \n",
      "  inflating: ./world_hello/83c36d806dc92327b9e7049a565c6bff.wav  \n",
      "  inflating: ./world_hello/8f05636838ccb48ecaaa50fa33e286e1.svg  \n",
      "  inflating: ./world_hello/bcf454acf82e4504149f7ffe07081dbc.svg  \n",
      "  inflating: ./world_hello/0fb9be3e8397c983338cb71dc84d0b25.svg  \n"
     ]
    }
   ],
   "source": [
    "!rm -rf ../world_hello/\n",
    "!cp ../sb3_files/hello_world.sb3 ../world_hello.zip\n",
    "!unzip ../world_hello.zip -d ../world_hello/\n",
    "!rm -rf ../world_hello.zip"
   ]
  },
  {
   "cell_type": "markdown",
   "metadata": {},
   "source": [
    "After extracting, we can implement a simple Python script that makes changes to the JSON file."
   ]
  },
  {
   "cell_type": "code",
   "execution_count": null,
   "metadata": {},
   "outputs": [
    {
     "name": "stdout",
     "output_type": "stream",
     "text": [
      "Changes saved successfully!\n"
     ]
    }
   ],
   "source": [
    "import json\n",
    "\n",
    "# Load the JSON file\n",
    "project_json = None\n",
    "with open('../world_hello/project.json', 'r', encoding='utf-8') as f:\n",
    "    project_json = json.load(f)\n",
    "\n",
    "# Get objects\n",
    "object_list = project_json[\"targets\"]\n",
    "\n",
    "# Find Sprite1\n",
    "sprite1_object = [object for object in object_list if object[\"name\"] == \"Sprite1\"][0]\n",
    "sprite1_blocks = sprite1_object[\"blocks\"]\n",
    "\n",
    "# Find the 'say \"Hello World!\" for 2 seconds' block\n",
    "say_block = [block for _, block in sprite1_blocks.items() if block[\"opcode\"] == \"looks_sayforsecs\"][0]\n",
    "\n",
    "# Edit the message and the seconds\n",
    "say_block[\"inputs\"][\"MESSAGE\"][1][1] = 'World Hello!'\n",
    "say_block[\"inputs\"][\"SECS\"][1][1] = '5'\n",
    "\n",
    "# Save the changes\n",
    "with open('../world_hello/project.json', 'w', encoding='utf-8') as f:\n",
    "    json.dump(project_json, f, indent=2)\n",
    "\n",
    "print(\"Changes saved successfully!\")"
   ]
  },
  {
   "cell_type": "markdown",
   "metadata": {},
   "source": [
    "After saving our changes we can then re-zip the contents of `world_hello/` into our new file `world_hello.sb3`! "
   ]
  },
  {
   "cell_type": "code",
   "execution_count": null,
   "metadata": {},
   "outputs": [
    {
     "name": "stdout",
     "output_type": "stream",
     "text": [
      "  adding: world_hello/0fb9be3e8397c983338cb71dc84d0b25.svg (deflated 69%)\n",
      "  adding: world_hello/83a9787d4cb6f3b7632b4ddfebf74367.wav (stored 0%)\n",
      "  adding: world_hello/83c36d806dc92327b9e7049a565c6bff.wav (deflated 4%)\n",
      "  adding: world_hello/8f05636838ccb48ecaaa50fa33e286e1.svg (deflated 59%)\n",
      "  adding: world_hello/bcf454acf82e4504149f7ffe07081dbc.svg (deflated 68%)\n",
      "  adding: world_hello/project.json (deflated 70%)\n"
     ]
    }
   ],
   "source": [
    "!rm -f ../sb3_files/world_hello.sb3\n",
    "!zip -r ../sb3_files/world_hello.sb3 ../world_hello/*"
   ]
  },
  {
   "cell_type": "markdown",
   "metadata": {},
   "source": [
    "Now, once we open the `../sb3_files/world_hello.sb3` file we can see that we have successfully modified the `say \"Hello World\" for 2 seconds` block to `say \"World Hello\" for 5 seconds`."
   ]
  }
 ],
 "metadata": {
  "kernelspec": {
   "display_name": "Python 3",
   "language": "python",
   "name": "python3"
  },
  "language_info": {
   "codemirror_mode": {
    "name": "ipython",
    "version": 3
   },
   "file_extension": ".py",
   "mimetype": "text/x-python",
   "name": "python",
   "nbconvert_exporter": "python",
   "pygments_lexer": "ipython3",
   "version": "3.12.3"
  }
 },
 "nbformat": 4,
 "nbformat_minor": 2
}
